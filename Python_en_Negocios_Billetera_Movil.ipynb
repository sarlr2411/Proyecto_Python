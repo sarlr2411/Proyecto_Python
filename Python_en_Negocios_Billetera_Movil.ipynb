{
 "cells": [
  {
   "cell_type": "markdown",
   "id": "65cd77c9",
   "metadata": {},
   "source": [
    "\n",
    "# Python en los negocios: Estadística descriptiva con una billetera móvil (15 min)\n",
    "\n",
    "**Objetivo:** En 15 minutos veremos cómo usar Python para responder preguntas de negocio con **estadística descriptiva** aplicada a una billetera móvil.\n",
    "\n",
    "**KPIs mensuales que mediremos:**\n",
    "- **Facturación (GMV):** suma de montos exitosos.\n",
    "- **Usuarios Activos (MAU):** usuarios con ≥1 transacción exitosa en el mes.\n",
    "- **Ticket Promedio (AOV):** GMV / número de transacciones exitosas.\n",
    "- **# Transacciones:** conteo de transacciones exitosas.\n",
    "\n",
    "> Dataset sintético incluido: `transactions_wallet_sample.csv`\n"
   ]
  },
  {
   "cell_type": "code",
   "execution_count": null,
   "id": "3431f52e",
   "metadata": {},
   "outputs": [],
   "source": [
    "\n",
    "# === 1) Setup e importaciones ===\n",
    "import pandas as pd\n",
    "import numpy as np\n",
    "import matplotlib.pyplot as plt\n",
    "\n",
    "pd.set_option(\"display.float_format\", lambda v: f\"{v:,.2f}\")\n"
   ]
  },
  {
   "cell_type": "code",
   "execution_count": null,
   "id": "aa34416f",
   "metadata": {},
   "outputs": [],
   "source": [
    "\n",
    "# === 2) Cargar datos (usa el CSV adjunto o súbelo en Colab) ===\n",
    "# Si estás en Google Colab, ejecuta:\n",
    "# from google.colab import files\n",
    "# uploaded = files.upload()  # y sube transactions_wallet_sample.csv\n",
    "\n",
    "df = pd.read_csv(\"transactions_wallet_sample.csv\", parse_dates=[\"txn_datetime\"])\n",
    "df.head()\n"
   ]
  },
  {
   "cell_type": "markdown",
   "id": "c1ba535e",
   "metadata": {},
   "source": [
    "\n",
    "### Esquema del dataset\n",
    "- `txn_id`: identificador único de transacción\n",
    "- `txn_datetime`: fecha y hora\n",
    "- `month`: periodo YYYY-MM\n",
    "- `user_id`: identificador del usuario\n",
    "- `merchant_id`, `merchant_name`, `category`: información del comercio\n",
    "- `payment_method`: método de pago usado\n",
    "- `amount_usd`: monto de la transacción\n",
    "- `cashback_usd`: cashback otorgado\n",
    "- `status`: `success`, `reversed` o `failed` (solo **success** cuenta para KPIs)\n"
   ]
  },
  {
   "cell_type": "code",
   "execution_count": null,
   "id": "ba2aaf13",
   "metadata": {},
   "outputs": [],
   "source": [
    "\n",
    "# === 3) Limpieza básica: nos quedamos con transacciones exitosas ===\n",
    "df_success = df.query(\"status == 'success'\").copy()\n",
    "\n",
    "# Asegurar tipos útiles\n",
    "df_success[\"month\"] = pd.PeriodIndex(df_success[\"month\"], freq=\"M\").astype(str)\n",
    "df_success[\"date\"] = df_success[\"txn_datetime\"].dt.date\n",
    "\n",
    "print(\"Transacciones totales:\", len(df))\n",
    "print(\"Transacciones exitosas:\", len(df_success))\n",
    "df_success.head(3)\n"
   ]
  },
  {
   "cell_type": "code",
   "execution_count": null,
   "id": "7999cac1",
   "metadata": {},
   "outputs": [],
   "source": [
    "\n",
    "# === 4) Funciones helper para KPIs mensuales ===\n",
    "def kpis_mensuales(data):\n",
    "    # GMV por mes\n",
    "    gmv = data.groupby(\"month\")[\"amount_usd\"].sum().rename(\"GMV_usd\")\n",
    "    # Transacciones por mes\n",
    "    txns = data.groupby(\"month\")[\"txn_id\"].count().rename(\"transactions\")\n",
    "    # Usuarios activos por mes (usuarios con >=1 txn)\n",
    "    mau = data.groupby(\"month\")[\"user_id\"].nunique().rename(\"active_users\")\n",
    "    # Ticket promedio (AOV)\n",
    "    aov = (gmv / txns).rename(\"avg_ticket_usd\")\n",
    "\n",
    "    out = pd.concat([gmv, txns, mau, aov], axis=1).reset_index()\n",
    "    return out.sort_values(\"month\")\n",
    "\n",
    "kpis = kpis_mensuales(df_success)\n",
    "kpis\n"
   ]
  },
  {
   "cell_type": "markdown",
   "id": "44625eb7",
   "metadata": {},
   "source": [
    "\n",
    "### Visualización rápida de KPIs\n",
    "> Nota: Usamos **matplotlib** y cada gráfico en una figura separada.\n"
   ]
  },
  {
   "cell_type": "code",
   "execution_count": null,
   "id": "4b0e91b5",
   "metadata": {},
   "outputs": [],
   "source": [
    "\n",
    "# === 5) Gráfico: GMV mensual ===\n",
    "plt.figure()\n",
    "plt.plot(kpis[\"month\"], kpis[\"GMV_usd\"], marker=\"o\")\n",
    "plt.title(\"GMV mensual (USD)\")\n",
    "plt.xlabel(\"Mes\")\n",
    "plt.ylabel(\"GMV (USD)\")\n",
    "plt.xticks(rotation=45)\n",
    "plt.grid(True)\n",
    "plt.show()\n"
   ]
  },
  {
   "cell_type": "code",
   "execution_count": null,
   "id": "4165c019",
   "metadata": {},
   "outputs": [],
   "source": [
    "\n",
    "# === 6) Gráfico: Usuarios activos mensuales ===\n",
    "plt.figure()\n",
    "plt.plot(kpis[\"month\"], kpis[\"active_users\"], marker=\"o\")\n",
    "plt.title(\"Usuarios activos mensuales (MAU)\")\n",
    "plt.xlabel(\"Mes\")\n",
    "plt.ylabel(\"# Usuarios activos\")\n",
    "plt.xticks(rotation=45)\n",
    "plt.grid(True)\n",
    "plt.show()\n"
   ]
  },
  {
   "cell_type": "code",
   "execution_count": null,
   "id": "ff0c1353",
   "metadata": {},
   "outputs": [],
   "source": [
    "\n",
    "# === 7) Gráfico: Ticket promedio mensual ===\n",
    "plt.figure()\n",
    "plt.plot(kpis[\"month\"], kpis[\"avg_ticket_usd\"], marker=\"o\")\n",
    "plt.title(\"Ticket promedio mensual (AOV)\")\n",
    "plt.xlabel(\"Mes\")\n",
    "plt.ylabel(\"USD por transacción\")\n",
    "plt.xticks(rotation=45)\n",
    "plt.grid(True)\n",
    "plt.show()\n"
   ]
  },
  {
   "cell_type": "code",
   "execution_count": null,
   "id": "0b3c45d2",
   "metadata": {},
   "outputs": [],
   "source": [
    "\n",
    "# === 8) Gráfico: Número de transacciones mensuales ===\n",
    "plt.figure()\n",
    "plt.plot(kpis[\"month\"], kpis[\"transactions\"], marker=\"o\")\n",
    "plt.title(\"Transacciones mensuales\")\n",
    "plt.xlabel(\"Mes\")\n",
    "plt.ylabel(\"# Transacciones\")\n",
    "plt.xticks(rotation=45)\n",
    "plt.grid(True)\n",
    "plt.show()\n"
   ]
  },
  {
   "cell_type": "markdown",
   "id": "1fc10607",
   "metadata": {},
   "source": [
    "\n",
    "## Estadística descriptiva útil para negocio\n"
   ]
  },
  {
   "cell_type": "code",
   "execution_count": null,
   "id": "94602d88",
   "metadata": {},
   "outputs": [],
   "source": [
    "\n",
    "# === 9) Descriptivos generales del monto ===\n",
    "desc = df_success[\"amount_usd\"].describe(percentiles=[0.25, 0.5, 0.75, 0.9, 0.95]).to_frame(\"amount_usd\")\n",
    "desc\n"
   ]
  },
  {
   "cell_type": "code",
   "execution_count": null,
   "id": "191d1001",
   "metadata": {},
   "outputs": [],
   "source": [
    "\n",
    "# === 10) Distribución del ticket (histograma) ===\n",
    "plt.figure()\n",
    "plt.hist(df_success[\"amount_usd\"], bins=30)\n",
    "plt.title(\"Distribución de montos por transacción\")\n",
    "plt.xlabel(\"Monto (USD)\")\n",
    "plt.ylabel(\"Frecuencia\")\n",
    "plt.grid(True)\n",
    "plt.show()\n"
   ]
  },
  {
   "cell_type": "markdown",
   "id": "19ad0745",
   "metadata": {},
   "source": [
    "\n",
    "### ¿Quiénes impulsan el negocio? Comercios y categorías\n"
   ]
  },
  {
   "cell_type": "code",
   "execution_count": null,
   "id": "b2c7f408",
   "metadata": {},
   "outputs": [],
   "source": [
    "\n",
    "# === 11) Top 5 comercios por GMV ===\n",
    "top_merchants = (df_success.groupby(\"merchant_name\")[\"amount_usd\"]\n",
    "                 .sum().sort_values(ascending=False).head(5).reset_index())\n",
    "top_merchants\n"
   ]
  },
  {
   "cell_type": "code",
   "execution_count": null,
   "id": "3686bba5",
   "metadata": {},
   "outputs": [],
   "source": [
    "\n",
    "# === 12) GMV por categoría ===\n",
    "gmv_cat = df_success.groupby(\"category\")[\"amount_usd\"].sum().sort_values(ascending=False).reset_index()\n",
    "gmv_cat\n"
   ]
  },
  {
   "cell_type": "code",
   "execution_count": null,
   "id": "9a4f6fc2",
   "metadata": {},
   "outputs": [],
   "source": [
    "\n",
    "# === 13) Método de pago más usado (% de transacciones) ===\n",
    "method_share = (df_success.groupby(\"payment_method\")[\"txn_id\"].count()\n",
    "                .div(len(df_success)).mul(100).round(2).rename(\"share_%\").reset_index())\n",
    "method_share\n"
   ]
  },
  {
   "cell_type": "markdown",
   "id": "4a097ad6",
   "metadata": {},
   "source": [
    "\n",
    "## Resumen ejecutivo mensual\n"
   ]
  },
  {
   "cell_type": "code",
   "execution_count": null,
   "id": "d855916f",
   "metadata": {},
   "outputs": [],
   "source": [
    "\n",
    "# === 14) Tabla de KPIs con % cambio mes a mes ===\n",
    "kpis2 = kpis.copy()\n",
    "kpis2[[\"GMV_usd_mom_%\",\"transactions_mom_%\",\"active_users_mom_%\",\"avg_ticket_mom_%\"]] = (\n",
    "    kpis2[[\"GMV_usd\",\"transactions\",\"active_users\",\"avg_ticket_usd\"]]\n",
    "    .pct_change() * 100\n",
    ")\n",
    "kpis2\n"
   ]
  },
  {
   "cell_type": "markdown",
   "id": "96281b51",
   "metadata": {},
   "source": [
    "\n",
    "### Bonus (opcional si hay tiempo): Nuevos vs. recurrentes\n"
   ]
  },
  {
   "cell_type": "code",
   "execution_count": null,
   "id": "c6279316",
   "metadata": {},
   "outputs": [],
   "source": [
    "\n",
    "# === 15) Nuevos vs recurrentes: un vistazo rápido ===\n",
    "first_txn_month = (df_success.sort_values(\"txn_datetime\")\n",
    "                   .groupby(\"user_id\")[\"month\"].first().rename(\"first_month\"))\n",
    "tmp = df_success.merge(first_txn_month, on=\"user_id\", how=\"left\")\n",
    "tmp[\"user_type\"] = np.where(tmp[\"month\"] == tmp[\"first_month\"], \"new\", \"returning\")\n",
    "\n",
    "cohort = (tmp.groupby([\"month\",\"user_type\"])[\"user_id\"]\n",
    "          .nunique().unstack(fill_value=0).reset_index())\n",
    "cohort\n"
   ]
  },
  {
   "cell_type": "code",
   "execution_count": null,
   "id": "31ed1588",
   "metadata": {},
   "outputs": [],
   "source": [
    "\n",
    "# Gráfico simple: nuevos vs recurrentes por mes\n",
    "plt.figure()\n",
    "plt.plot(cohort[\"month\"], cohort[\"new\"], marker=\"o\", label=\"Nuevos\")\n",
    "plt.plot(cohort[\"month\"], cohort[\"returning\"], marker=\"o\", label=\"Recurrentes\")\n",
    "plt.title(\"Usuarios activos: nuevos vs recurrentes\")\n",
    "plt.xlabel(\"Mes\")\n",
    "plt.ylabel(\"# Usuarios\")\n",
    "plt.xticks(rotation=45)\n",
    "plt.grid(True)\n",
    "plt.legend()\n",
    "plt.show()\n"
   ]
  },
  {
   "cell_type": "markdown",
   "id": "c118916b",
   "metadata": {},
   "source": [
    "\n",
    "---\n",
    "\n",
    "## Guion sugerido (15 minutos)\n",
    "1. **Contexto (2 min):** rol de la analítica descriptiva para entender el desempeño mensual.\n",
    "2. **Carga & limpieza (4 min):** filtrar exitosas; validar campos clave.\n",
    "3. **KPIs (5 min):** GMV, MAU, AOV, transacciones + tendencias con gráficos.\n",
    "4. **Descriptivos (2 min):** distribución de tickets, top comercios/métodos.\n",
    "5. **Cierre (2 min):** decisiones accionables (p.ej., enfocarse en categorías/aliados que traccionan, revisar meses con caída de AOV).\n",
    "\n",
    "> Tarea: replicar con tus datos reales y añadir métricas propias (retención, churn, cashback/gasto, conversión por método de pago).\n"
   ]
  }
 ],
 "metadata": {},
 "nbformat": 4,
 "nbformat_minor": 5
}
